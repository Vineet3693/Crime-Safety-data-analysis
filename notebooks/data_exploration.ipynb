
# data_exploration.ipynb

import pandas as pd
import matplotlib.pyplot as plt
import seaborn as sns

# Load the data
data = pd.read_csv('../data/raw_data.csv')

# Display basic information
print(data.info())
print(data.describe())

# Visualize the distribution of victim age
plt.figure(figsize=(10, 6))
sns.histplot(data['victim_age'], bins=30, kde=True)
plt.title('Distribution of Victim Age')
plt.xlabel('Age')
plt.ylabel('Frequency')
plt.show()
